{
 "cells": [
  {
   "cell_type": "code",
   "execution_count": 52,
   "metadata": {},
   "outputs": [],
   "source": [
    "import os\n",
    "import math\n",
    "import random\n",
    "import numpy as np\n",
    "import pandas as pd\n",
    "from PIL import Image, ExifTags\n",
    "from ultralytics import YOLO\n",
    "import matplotlib.pyplot as plt \n",
    "\n",
    "random.seed(1234)"
   ]
  },
  {
   "cell_type": "code",
   "execution_count": 53,
   "metadata": {},
   "outputs": [],
   "source": [
    "# preprocess data functions\n",
    "# image size (to check)\n",
    "def get_img_size(path):\n",
    "    image = Image.open(path)\n",
    "    width, height = image.size\n",
    "    return(width, height)\n",
    "\n",
    "# split the data into training and validation\n",
    "def fill_training_folders(path_oil, path_no_oil, output_dir, size):\n",
    "    \"\"\"\n",
    "    Fills the trainings image folders with resized images\n",
    "\n",
    "    Args:\n",
    "        path_oil (str): path to oil photos\n",
    "        path_no_oil (str): path to no oil photos\n",
    "        output_dir (str): directory of saved photos\n",
    "        size (tuple): max dimensions of output size\n",
    "\n",
    "    Returns:\n",
    "        None\n",
    "    \"\"\"\n",
    "    # source_folders = ['./pics/oil_pics', './pics/no_oil_pics']\n",
    "    source_folders = [path_oil, path_no_oil]\n",
    "    \n",
    "    for idx, folder in enumerate(source_folders):\n",
    "        has_oil = idx == 0\n",
    "        images = []\n",
    "\n",
    "        for filename in os.listdir(folder):\n",
    "            input_path = os.path.join(folder, filename)\n",
    "            \n",
    "            # Check if the file is an image\n",
    "            try:\n",
    "                with Image.open(input_path) as img:\n",
    "                    exif = img._getexif()\n",
    "                    if exif is not None:\n",
    "                        orientation_tag = next(\n",
    "                            (key for key, value in ExifTags.TAGS.items() if value == \"Orientation\"), None\n",
    "                        )\n",
    "                        if orientation_tag and orientation_tag in exif:\n",
    "                            orientation = exif[orientation_tag]\n",
    "                            if orientation == 3:  # Rotated 180 degrees\n",
    "                                img = img.rotate(180, expand=True)\n",
    "                            elif orientation == 6:  # Rotated 270 degrees (90 CW)\n",
    "                                img = img.rotate(270, expand=True)\n",
    "                            elif orientation == 8:  # Rotated 90 degrees (90 CCW)\n",
    "                                img = img.rotate(90, expand=True)\n",
    "                    # img.thumbnail((max_width, max_height))\n",
    "                    img.thumbnail(size)\n",
    "                    \n",
    "                    # Convert to RGB if not already in this mode\n",
    "                    img = img.convert(\"RGB\")\n",
    "\n",
    "                    images.append((filename, img))\n",
    "                    \n",
    "                    print(f\"Processed: {filename}\")\n",
    "            except Exception as e:\n",
    "                print(f\"Skipped {filename}: {e}\")\n",
    "\n",
    "        random.shuffle(images)\n",
    "\n",
    "        # split into train, val, test (80, 10, 10)\n",
    "        train_end_dex = math.floor(len(images) * .8 // 1)\n",
    "        train = images[:train_end_dex]\n",
    "        \n",
    "        val_end_dex = train_end_dex + math.floor(len(images) * .1 // 1)\n",
    "        val = images[train_end_dex:val_end_dex]\n",
    "\n",
    "        test = images[val_end_dex:]\n",
    "\n",
    "        for imgs, location in [(train, 'train'), (val, 'val'), (test, 'test')]:\n",
    "            sub_dir = 'oil' if has_oil else 'no_oil'\n",
    "            output_folder = f'{output_dir}/{location}/{sub_dir}'\n",
    "            os.makedirs(output_folder, exist_ok=True)\n",
    "            for fn, img in imgs:\n",
    "                output_path = os.path.join(output_folder, fn)\n",
    "                img.save(output_path, \"JPEG\")\n",
    "\n",
    "    print(\"Completed Image Processing and Splitting\")"
   ]
  },
  {
   "cell_type": "code",
   "execution_count": null,
   "metadata": {},
   "outputs": [
    {
     "name": "stdout",
     "output_type": "stream",
     "text": [
      "Processed: 0071.jpg\n",
      "Processed: 0065.jpg\n",
      "Processed: 0059.jpg\n",
      "Processed: 0105.jpg\n",
      "Processed: 0111.jpg\n",
      "Processed: 0110.jpg\n",
      "Processed: 0104.jpg\n",
      "Processed: 0058.jpg\n",
      "Processed: 0064.jpg\n",
      "Processed: 0070.jpg\n",
      "Processed: 0066.jpg\n",
      "Processed: 0072.jpg\n",
      "Processed: 0099.jpg\n",
      "Processed: 0112.jpg\n",
      "Processed: 0106.jpg\n",
      "Processed: 0107.jpg\n",
      "Processed: 0113.jpg\n",
      "Processed: 0098.jpg\n",
      "Processed: 0073.jpg\n",
      "Processed: 0067.jpg\n",
      "Processed: 0063.jpg\n",
      "Processed: 0077.jpg\n",
      "Processed: 0088.jpg\n",
      "Processed: 0117.jpg\n",
      "Processed: 0103.jpg\n",
      "Processed: 0102.jpg\n",
      "Processed: 0116.jpg\n",
      "Processed: 0089.jpg\n",
      "Processed: 0076.jpg\n",
      "Processed: 0062.jpg\n",
      "Processed: 0048.jpg\n",
      "Processed: 0074.jpg\n",
      "Processed: 0060.jpg\n",
      "Processed: 0100.jpg\n",
      "Processed: 0114.jpg\n",
      "Processed: 0115.jpg\n",
      "Processed: 0101.jpg\n",
      "Processed: 0061.jpg\n",
      "Processed: 0075.jpg\n",
      "Processed: 0049.jpg\n",
      "Processed: 0012.jpg\n",
      "Processed: 0006.jpg\n",
      "Processed: 0007.jpg\n",
      "Processed: 0013.jpg\n",
      "Processed: 0005.jpg\n",
      "Processed: 0011.jpg\n",
      "Processed: 0039.jpg\n",
      "Processed: 0038.jpg\n",
      "Processed: 0010.jpg\n",
      "Processed: 0004.jpg\n",
      "Processed: 0028.jpg\n",
      "Processed: 0000.jpg\n",
      "Processed: 0014.jpg\n",
      "Processed: 0015.jpg\n",
      "Processed: 0001.jpg\n",
      "Processed: 0029.jpg\n",
      "Processed: 0017.jpg\n",
      "Processed: 0003.jpg\n",
      "Processed: 0002.jpg\n",
      "Processed: 0016.jpg\n",
      "Processed: 0033.jpg\n",
      "Processed: 0027.jpg\n",
      "Processed: 0026.jpg\n",
      "Processed: 0032.jpg\n",
      "Processed: 0024.jpg\n",
      "Processed: 0030.jpg\n",
      "Processed: 0018.jpg\n",
      "Processed: 0019.jpg\n",
      "Processed: 0031.jpg\n",
      "Processed: 0025.jpg\n",
      "Processed: 0009.jpg\n",
      "Processed: 0021.jpg\n",
      "Processed: 0035.jpg\n",
      "Processed: 0034.jpg\n",
      "Processed: 0020.jpg\n",
      "Processed: 0008.jpg\n",
      "Processed: 0036.jpg\n",
      "Processed: 0022.jpg\n",
      "Processed: 0023.jpg\n",
      "Processed: 0037.jpg\n",
      "Processed: 0050.jpg\n",
      "Processed: 0044.jpg\n",
      "Processed: 0078.jpg\n",
      "Processed: 0093.jpg\n",
      "Processed: 0087.jpg\n",
      "Processed: 0118.jpg\n",
      "Processed: 0119.jpg\n",
      "Processed: 0086.jpg\n",
      "Processed: 0092.jpg\n",
      "Processed: 0079.jpg\n",
      "Processed: 0045.jpg\n",
      "Processed: 0051.jpg\n",
      "Processed: 0047.jpg\n",
      "Processed: 0053.jpg\n",
      "Processed: 0084.jpg\n",
      "Processed: 0090.jpg\n",
      "Processed: 0091.jpg\n",
      "Processed: 0085.jpg\n",
      "Processed: 0052.jpg\n",
      "Processed: 0046.jpg\n",
      "Processed: 0042.jpg\n",
      "Processed: 0056.jpg\n",
      "Processed: 0081.jpg\n",
      "Processed: 0095.jpg\n",
      "Processed: 0122.jpg\n",
      "Processed: 0094.jpg\n",
      "Processed: 0080.jpg\n",
      "Processed: 0057.jpg\n",
      "Processed: 0043.jpg\n",
      "Processed: 0069.jpg\n",
      "Processed: 0055.jpg\n",
      "Processed: 0041.jpg\n",
      "Processed: 0096.jpg\n",
      "Processed: 0082.jpg\n",
      "Processed: 0109.jpg\n",
      "Processed: 0121.jpg\n",
      "Processed: 0120.jpg\n",
      "Processed: 0108.jpg\n",
      "Processed: 0083.jpg\n",
      "Processed: 0097.jpg\n",
      "Processed: 0040.jpg\n",
      "Processed: 0054.jpg\n",
      "Processed: 0068.jpg\n",
      "Processed: 0071.jpg\n",
      "Processed: 0065.jpg\n",
      "Processed: 0059.jpg\n",
      "Processed: 0105.jpg\n",
      "Processed: 0111.jpg\n",
      "Processed: 0110.jpg\n",
      "Processed: 0104.jpg\n",
      "Processed: 0058.jpg\n",
      "Processed: 0064.jpg\n",
      "Processed: 0070.jpg\n",
      "Processed: 0066.jpg\n",
      "Processed: 0072.jpg\n",
      "Processed: 0099.jpg\n",
      "Processed: 0112.jpg\n",
      "Processed: 0106.jpg\n",
      "Processed: 0107.jpg\n",
      "Processed: 0113.jpg\n",
      "Processed: 0098.jpg\n",
      "Processed: 0073.jpg\n",
      "Processed: 0067.jpg\n",
      "Processed: 0063.jpg\n",
      "Processed: 0077.jpg\n",
      "Processed: 0088.jpg\n",
      "Processed: 0117.jpg\n",
      "Processed: 0103.jpg\n",
      "Processed: 0102.jpg\n",
      "Processed: 0116.jpg\n",
      "Processed: 0089.jpg\n",
      "Processed: 0076.jpg\n",
      "Processed: 0062.jpg\n",
      "Processed: 0048.jpg\n",
      "Processed: 0074.jpg\n",
      "Processed: 0060.jpg\n",
      "Processed: 0128.jpg\n",
      "Processed: 0100.jpg\n",
      "Processed: 0114.jpg\n",
      "Processed: 0115.jpg\n",
      "Processed: 0101.jpg\n",
      "Processed: 0129.jpg\n",
      "Processed: 0061.jpg\n",
      "Processed: 0075.jpg\n",
      "Processed: 0049.jpg\n",
      "Processed: 0012.jpg\n",
      "Processed: 0006.jpg\n",
      "Processed: 0007.jpg\n",
      "Processed: 0013.jpg\n",
      "Processed: 0005.jpg\n",
      "Processed: 0011.jpg\n",
      "Processed: 0039.jpg\n",
      "Processed: 0038.jpg\n",
      "Processed: 0010.jpg\n",
      "Processed: 0004.jpg\n",
      "Processed: 0028.jpg\n",
      "Processed: 0000.jpg\n",
      "Processed: 0014.jpg\n",
      "Processed: 0015.jpg\n",
      "Processed: 0001.jpg\n",
      "Processed: 0029.jpg\n",
      "Processed: 0017.jpg\n",
      "Processed: 0003.jpg\n",
      "Processed: 0002.jpg\n",
      "Processed: 0016.jpg\n",
      "Processed: 0033.jpg\n",
      "Processed: 0027.jpg\n",
      "Processed: 0026.jpg\n",
      "Processed: 0032.jpg\n",
      "Processed: 0024.jpg\n",
      "Processed: 0030.jpg\n",
      "Processed: 0018.jpg\n",
      "Processed: 0019.jpg\n",
      "Processed: 0031.jpg\n",
      "Processed: 0025.jpg\n",
      "Processed: 0009.jpg\n",
      "Processed: 0021.jpg\n",
      "Processed: 0035.jpg\n",
      "Processed: 0034.jpg\n",
      "Processed: 0020.jpg\n",
      "Processed: 0008.jpg\n",
      "Processed: 0036.jpg\n",
      "Processed: 0022.jpg\n",
      "Processed: 0023.jpg\n",
      "Processed: 0037.jpg\n",
      "Processed: 0050.jpg\n",
      "Processed: 0044.jpg\n",
      "Processed: 0078.jpg\n",
      "Processed: 0093.jpg\n",
      "Processed: 0087.jpg\n",
      "Processed: 0124.jpg\n",
      "Processed: 0130.jpg\n",
      "Processed: 0118.jpg\n",
      "Processed: 0119.jpg\n",
      "Processed: 0131.jpg\n",
      "Processed: 0125.jpg\n",
      "Processed: 0086.jpg\n",
      "Processed: 0092.jpg\n",
      "Processed: 0079.jpg\n",
      "Processed: 0045.jpg\n",
      "Processed: 0051.jpg\n",
      "Processed: 0047.jpg\n",
      "Processed: 0053.jpg\n",
      "Processed: 0084.jpg\n",
      "Processed: 0090.jpg\n",
      "Processed: 0133.jpg\n",
      "Processed: 0127.jpg\n",
      "Processed: 0126.jpg\n",
      "Processed: 0132.jpg\n",
      "Processed: 0091.jpg\n",
      "Processed: 0085.jpg\n",
      "Processed: 0052.jpg\n",
      "Processed: 0046.jpg\n",
      "Processed: 0042.jpg\n",
      "Processed: 0056.jpg\n",
      "Processed: 0081.jpg\n",
      "Processed: 0095.jpg\n",
      "Processed: 0122.jpg\n",
      "Processed: 0123.jpg\n",
      "Processed: 0094.jpg\n",
      "Processed: 0080.jpg\n",
      "Processed: 0057.jpg\n",
      "Processed: 0043.jpg\n",
      "Processed: 0069.jpg\n",
      "Processed: 0055.jpg\n",
      "Processed: 0041.jpg\n",
      "Processed: 0096.jpg\n",
      "Processed: 0082.jpg\n",
      "Processed: 0109.jpg\n",
      "Processed: 0121.jpg\n",
      "Processed: 0120.jpg\n",
      "Processed: 0108.jpg\n",
      "Processed: 0083.jpg\n",
      "Processed: 0097.jpg\n",
      "Processed: 0040.jpg\n",
      "Processed: 0054.jpg\n",
      "Processed: 0068.jpg\n",
      "Completed Image Processing and Splitting\n"
     ]
    }
   ],
   "source": [
    "# preprocess data\n",
    "input_path_no_oil = \"./pics/no_oil_pics\"\n",
    "input_path_oil = \"./pics/oil_pics\"\n",
    "output_dir = \"./oil_detection_training/datasets\"\n",
    "size = (50, 50)\n",
    "\n",
    "# getting original photo size\n",
    "# og_file_path = os.path.join(input_path_no_oil, '0000.jpg')\n",
    "# size = get_img_size(og_file_path)\n",
    "\n",
    "# resize and convert\n",
    "fill_training_folders(input_path_no_oil, input_path_oil, output_dir, size)"
   ]
  },
  {
   "cell_type": "code",
   "execution_count": null,
   "metadata": {},
   "outputs": [
    {
     "name": "stdout",
     "output_type": "stream",
     "text": [
      "Ultralytics 8.3.49 🚀 Python-3.10.8 torch-2.5.1 MPS (Apple M1 Pro)\n",
      "\u001b[34m\u001b[1mengine/trainer: \u001b[0mtask=classify, mode=train, model=yolov8n-cls.pt, data=/Users/anthony/Desktop/Folder/mystuff/249/OilDetector/oil_detection_training/datasets, epochs=5, time=None, patience=100, batch=16, imgsz=224, save=True, save_period=-1, cache=False, device=mps, workers=8, project=None, name=train7, exist_ok=False, pretrained=True, optimizer=auto, verbose=True, seed=1234, deterministic=True, single_cls=False, rect=False, cos_lr=False, close_mosaic=10, resume=False, amp=True, fraction=1.0, profile=False, freeze=None, multi_scale=False, overlap_mask=True, mask_ratio=4, dropout=0.0, val=True, split=val, save_json=False, save_hybrid=False, conf=None, iou=0.7, max_det=300, half=False, dnn=False, plots=True, source=None, vid_stride=1, stream_buffer=False, visualize=False, augment=False, agnostic_nms=False, classes=None, retina_masks=False, embed=None, show=False, save_frames=False, save_txt=False, save_conf=False, save_crop=False, show_labels=True, show_conf=True, show_boxes=True, line_width=None, format=torchscript, keras=False, optimize=False, int8=False, dynamic=False, simplify=True, opset=None, workspace=None, nms=False, lr0=0.01, lrf=0.01, momentum=0.937, weight_decay=0.0005, warmup_epochs=3.0, warmup_momentum=0.8, warmup_bias_lr=0.1, box=7.5, cls=0.5, dfl=1.5, pose=12.0, kobj=1.0, nbs=64, hsv_h=0.015, hsv_s=0.7, hsv_v=0.4, degrees=0.0, translate=0.1, scale=0.5, shear=0.0, perspective=0.0, flipud=0.0, fliplr=0.5, bgr=0.0, mosaic=1.0, mixup=0.0, copy_paste=0.0, copy_paste_mode=flip, auto_augment=randaugment, erasing=0.4, crop_fraction=1.0, cfg=None, tracker=botsort.yaml, save_dir=runs/classify/train7\n",
      "\u001b[34m\u001b[1mtrain:\u001b[0m /Users/anthony/Desktop/Folder/mystuff/249/OilDetector/oil_detection_training/datasets/train... found 205 images in 2 classes ✅ \n",
      "\u001b[34m\u001b[1mval:\u001b[0m /Users/anthony/Desktop/Folder/mystuff/249/OilDetector/oil_detection_training/datasets/val... found 25 images in 2 classes ✅ \n",
      "\u001b[34m\u001b[1mtest:\u001b[0m /Users/anthony/Desktop/Folder/mystuff/249/OilDetector/oil_detection_training/datasets/test... found 27 images in 2 classes ✅ \n",
      "Overriding model.yaml nc=1000 with nc=2\n",
      "\n",
      "                   from  n    params  module                                       arguments                     \n",
      "  0                  -1  1       464  ultralytics.nn.modules.conv.Conv             [3, 16, 3, 2]                 \n",
      "  1                  -1  1      4672  ultralytics.nn.modules.conv.Conv             [16, 32, 3, 2]                \n",
      "  2                  -1  1      7360  ultralytics.nn.modules.block.C2f             [32, 32, 1, True]             \n",
      "  3                  -1  1     18560  ultralytics.nn.modules.conv.Conv             [32, 64, 3, 2]                \n",
      "  4                  -1  2     49664  ultralytics.nn.modules.block.C2f             [64, 64, 2, True]             \n",
      "  5                  -1  1     73984  ultralytics.nn.modules.conv.Conv             [64, 128, 3, 2]               \n",
      "  6                  -1  2    197632  ultralytics.nn.modules.block.C2f             [128, 128, 2, True]           \n",
      "  7                  -1  1    295424  ultralytics.nn.modules.conv.Conv             [128, 256, 3, 2]              \n",
      "  8                  -1  1    460288  ultralytics.nn.modules.block.C2f             [256, 256, 1, True]           \n",
      "  9                  -1  1    332802  ultralytics.nn.modules.head.Classify         [256, 2]                      \n",
      "YOLOv8n-cls summary: 99 layers, 1,440,850 parameters, 1,440,850 gradients, 3.4 GFLOPs\n",
      "Transferred 156/158 items from pretrained weights\n",
      "\u001b[34m\u001b[1mTensorBoard: \u001b[0mStart with 'tensorboard --logdir runs/classify/train7', view at http://localhost:6006/\n"
     ]
    },
    {
     "name": "stderr",
     "output_type": "stream",
     "text": [
      "\u001b[34m\u001b[1mtrain: \u001b[0mScanning /Users/anthony/Desktop/Folder/mystuff/249/OilDetector/oil_detection_training/datasets/train... 205 images, 0 corrupt: 100%|██████████| 205/205 [00:00<00:00, 3239.37it/s]"
     ]
    },
    {
     "name": "stdout",
     "output_type": "stream",
     "text": [
      "\u001b[34m\u001b[1mtrain: \u001b[0mNew cache created: /Users/anthony/Desktop/Folder/mystuff/249/OilDetector/oil_detection_training/datasets/train.cache\n"
     ]
    },
    {
     "name": "stderr",
     "output_type": "stream",
     "text": [
      "\n",
      "\u001b[34m\u001b[1mval: \u001b[0mScanning /Users/anthony/Desktop/Folder/mystuff/249/OilDetector/oil_detection_training/datasets/val... 25 images, 0 corrupt: 100%|██████████| 25/25 [00:00<00:00, 3004.09it/s]"
     ]
    },
    {
     "name": "stdout",
     "output_type": "stream",
     "text": [
      "\u001b[34m\u001b[1mval: \u001b[0mNew cache created: /Users/anthony/Desktop/Folder/mystuff/249/OilDetector/oil_detection_training/datasets/val.cache\n",
      "\u001b[34m\u001b[1moptimizer:\u001b[0m 'optimizer=auto' found, ignoring 'lr0=0.01' and 'momentum=0.937' and determining best 'optimizer', 'lr0' and 'momentum' automatically... \n",
      "\u001b[34m\u001b[1moptimizer:\u001b[0m AdamW(lr=0.000714, momentum=0.9) with parameter groups 26 weight(decay=0.0), 27 weight(decay=0.0005), 27 bias(decay=0.0)\n"
     ]
    },
    {
     "name": "stderr",
     "output_type": "stream",
     "text": [
      "\n"
     ]
    },
    {
     "name": "stdout",
     "output_type": "stream",
     "text": [
      "\u001b[34m\u001b[1mTensorBoard: \u001b[0mmodel graph visualization added ✅\n",
      "Image sizes 224 train, 224 val\n",
      "Using 0 dataloader workers\n",
      "Logging results to \u001b[1mruns/classify/train7\u001b[0m\n",
      "Starting training for 5 epochs...\n",
      "\n",
      "      Epoch    GPU_mem       loss  Instances       Size\n"
     ]
    },
    {
     "name": "stderr",
     "output_type": "stream",
     "text": [
      "        1/5      1.36G      0.739         13        224: 100%|██████████| 13/13 [00:02<00:00,  5.93it/s]\n",
      "               classes   top1_acc   top5_acc: 100%|██████████| 1/1 [00:00<00:00, 13.94it/s]"
     ]
    },
    {
     "name": "stdout",
     "output_type": "stream",
     "text": [
      "                   all       0.48          1\n"
     ]
    },
    {
     "name": "stderr",
     "output_type": "stream",
     "text": [
      "\n"
     ]
    },
    {
     "name": "stdout",
     "output_type": "stream",
     "text": [
      "\n",
      "      Epoch    GPU_mem       loss  Instances       Size\n"
     ]
    },
    {
     "name": "stderr",
     "output_type": "stream",
     "text": [
      "        2/5      1.33G     0.6651         13        224: 100%|██████████| 13/13 [00:01<00:00,  9.09it/s]\n",
      "               classes   top1_acc   top5_acc: 100%|██████████| 1/1 [00:00<00:00, 24.19it/s]"
     ]
    },
    {
     "name": "stdout",
     "output_type": "stream",
     "text": [
      "                   all        0.8          1\n"
     ]
    },
    {
     "name": "stderr",
     "output_type": "stream",
     "text": [
      "\n"
     ]
    },
    {
     "name": "stdout",
     "output_type": "stream",
     "text": [
      "\n",
      "      Epoch    GPU_mem       loss  Instances       Size\n"
     ]
    },
    {
     "name": "stderr",
     "output_type": "stream",
     "text": [
      "        3/5      1.32G     0.6189         13        224: 100%|██████████| 13/13 [00:01<00:00,  8.82it/s]\n",
      "               classes   top1_acc   top5_acc: 100%|██████████| 1/1 [00:00<00:00, 20.71it/s]"
     ]
    },
    {
     "name": "stdout",
     "output_type": "stream",
     "text": [
      "                   all       0.88          1\n"
     ]
    },
    {
     "name": "stderr",
     "output_type": "stream",
     "text": [
      "\n"
     ]
    },
    {
     "name": "stdout",
     "output_type": "stream",
     "text": [
      "\n",
      "      Epoch    GPU_mem       loss  Instances       Size\n"
     ]
    },
    {
     "name": "stderr",
     "output_type": "stream",
     "text": [
      "        4/5      1.33G     0.5682         13        224: 100%|██████████| 13/13 [00:01<00:00,  8.25it/s]\n",
      "               classes   top1_acc   top5_acc: 100%|██████████| 1/1 [00:00<00:00, 16.27it/s]"
     ]
    },
    {
     "name": "stdout",
     "output_type": "stream",
     "text": [
      "                   all       0.96          1\n"
     ]
    },
    {
     "name": "stderr",
     "output_type": "stream",
     "text": [
      "\n"
     ]
    },
    {
     "name": "stdout",
     "output_type": "stream",
     "text": [
      "\n",
      "      Epoch    GPU_mem       loss  Instances       Size\n"
     ]
    },
    {
     "name": "stderr",
     "output_type": "stream",
     "text": [
      "        5/5      1.32G     0.5096         13        224: 100%|██████████| 13/13 [00:01<00:00,  9.65it/s]\n",
      "               classes   top1_acc   top5_acc: 100%|██████████| 1/1 [00:00<00:00, 20.52it/s]"
     ]
    },
    {
     "name": "stdout",
     "output_type": "stream",
     "text": [
      "                   all       0.96          1\n"
     ]
    },
    {
     "name": "stderr",
     "output_type": "stream",
     "text": [
      "\n"
     ]
    },
    {
     "name": "stdout",
     "output_type": "stream",
     "text": [
      "\n",
      "5 epochs completed in 0.003 hours.\n",
      "Optimizer stripped from runs/classify/train7/weights/last.pt, 3.0MB\n",
      "Optimizer stripped from runs/classify/train7/weights/best.pt, 3.0MB\n",
      "\n",
      "Validating runs/classify/train7/weights/best.pt...\n",
      "Ultralytics 8.3.49 🚀 Python-3.10.8 torch-2.5.1 MPS (Apple M1 Pro)\n",
      "YOLOv8n-cls summary (fused): 73 layers, 1,437,442 parameters, 0 gradients, 3.3 GFLOPs\n",
      "\u001b[34m\u001b[1mtrain:\u001b[0m /Users/anthony/Desktop/Folder/mystuff/249/OilDetector/oil_detection_training/datasets/train... found 205 images in 2 classes ✅ \n",
      "\u001b[34m\u001b[1mval:\u001b[0m /Users/anthony/Desktop/Folder/mystuff/249/OilDetector/oil_detection_training/datasets/val... found 25 images in 2 classes ✅ \n",
      "\u001b[34m\u001b[1mtest:\u001b[0m /Users/anthony/Desktop/Folder/mystuff/249/OilDetector/oil_detection_training/datasets/test... found 27 images in 2 classes ✅ \n"
     ]
    },
    {
     "name": "stderr",
     "output_type": "stream",
     "text": [
      "               classes   top1_acc   top5_acc: 100%|██████████| 1/1 [00:00<00:00,  8.78it/s]\n"
     ]
    },
    {
     "name": "stdout",
     "output_type": "stream",
     "text": [
      "                   all       0.96          1\n",
      "Speed: 0.1ms preprocess, 0.4ms inference, 0.0ms loss, 0.0ms postprocess per image\n",
      "Results saved to \u001b[1mruns/classify/train7\u001b[0m\n"
     ]
    },
    {
     "data": {
      "text/plain": [
       "ultralytics.utils.metrics.ClassifyMetrics object with attributes:\n",
       "\n",
       "confusion_matrix: <ultralytics.utils.metrics.ConfusionMatrix object at 0x31059db10>\n",
       "curves: []\n",
       "curves_results: []\n",
       "fitness: 0.9799999892711639\n",
       "keys: ['metrics/accuracy_top1', 'metrics/accuracy_top5']\n",
       "results_dict: {'metrics/accuracy_top1': 0.9599999785423279, 'metrics/accuracy_top5': 1.0, 'fitness': 0.9799999892711639}\n",
       "save_dir: PosixPath('runs/classify/train7')\n",
       "speed: {'preprocess': 0.08543968200683594, 'inference': 0.38234710693359375, 'loss': 8.58306884765625e-05, 'postprocess': 0.0001239776611328125}\n",
       "task: 'classify'\n",
       "top1: 0.9599999785423279\n",
       "top5: 1.0"
      ]
     },
     "execution_count": 55,
     "metadata": {},
     "output_type": "execute_result"
    }
   ],
   "source": [
    "# Load a model\n",
    "model = YOLO('yolov8n-cls.pt') # load a pretrained model (recommended for training)\n",
    "\n",
    "# Train the model, set path to desired image size dir.\n",
    "path = \"./oil_detection_training/datasets\"\n",
    "model.train(data=path, epochs=5, device='mps', seed=1234)"
   ]
  },
  {
   "cell_type": "code",
   "execution_count": 56,
   "metadata": {},
   "outputs": [
    {
     "name": "stdout",
     "output_type": "stream",
     "text": [
      "Ultralytics 8.3.49 🚀 Python-3.10.8 torch-2.5.1 MPS (Apple M1 Pro)\n",
      "YOLOv8n-cls summary (fused): 73 layers, 1,437,442 parameters, 0 gradients, 3.3 GFLOPs\n",
      "\u001b[34m\u001b[1mtrain:\u001b[0m /Users/anthony/Desktop/Folder/mystuff/249/OilDetector/oil_detection_training/datasets/train... found 205 images in 2 classes ✅ \n",
      "\u001b[34m\u001b[1mval:\u001b[0m /Users/anthony/Desktop/Folder/mystuff/249/OilDetector/oil_detection_training/datasets/val... found 25 images in 2 classes ✅ \n",
      "\u001b[34m\u001b[1mtest:\u001b[0m /Users/anthony/Desktop/Folder/mystuff/249/OilDetector/oil_detection_training/datasets/test... found 27 images in 2 classes ✅ \n"
     ]
    },
    {
     "name": "stderr",
     "output_type": "stream",
     "text": [
      "\u001b[34m\u001b[1mval: \u001b[0mScanning /Users/anthony/Desktop/Folder/mystuff/249/OilDetector/oil_detection_training/datasets/val... 25 images, 0 corrupt: 100%|██████████| 25/25 [00:00<?, ?it/s]\n",
      "               classes   top1_acc   top5_acc: 100%|██████████| 2/2 [00:00<00:00, 20.73it/s]\n"
     ]
    },
    {
     "name": "stdout",
     "output_type": "stream",
     "text": [
      "                   all       0.96          1\n",
      "Speed: 0.1ms preprocess, 0.7ms inference, 0.0ms loss, 0.0ms postprocess per image\n",
      "Results saved to \u001b[1mruns/classify/train72\u001b[0m\n"
     ]
    },
    {
     "data": {
      "text/plain": [
       "1.0"
      ]
     },
     "execution_count": 56,
     "metadata": {},
     "output_type": "execute_result"
    }
   ],
   "source": [
    "# Validate the model\n",
    "metrics = model.val() # no arguments needed, dataset and settings remembered\n",
    "metrics.top1 # top1 accuracy\n",
    "metrics.top5 # top5 accuracy"
   ]
  },
  {
   "cell_type": "code",
   "execution_count": null,
   "metadata": {},
   "outputs": [
    {
     "name": "stdout",
     "output_type": "stream",
     "text": [
      "\n",
      "0: 224x224 no_oil 0.74, oil 0.26, 4.6ms\n",
      "Speed: 3.8ms preprocess, 4.6ms inference, 0.0ms postprocess per image at shape (1, 3, 224, 224)\n",
      "\n",
      "0: 224x224 no_oil 0.75, oil 0.25, 5.2ms\n",
      "Speed: 2.1ms preprocess, 5.2ms inference, 0.0ms postprocess per image at shape (1, 3, 224, 224)\n",
      "\n",
      "0: 224x224 no_oil 0.58, oil 0.42, 5.1ms\n",
      "Speed: 1.9ms preprocess, 5.1ms inference, 0.0ms postprocess per image at shape (1, 3, 224, 224)\n",
      "\n",
      "0: 224x224 no_oil 0.82, oil 0.18, 37.8ms\n",
      "Speed: 3.2ms preprocess, 37.8ms inference, 0.0ms postprocess per image at shape (1, 3, 224, 224)\n",
      "\n",
      "0: 224x224 no_oil 0.57, oil 0.43, 4.9ms\n",
      "Speed: 2.0ms preprocess, 4.9ms inference, 0.0ms postprocess per image at shape (1, 3, 224, 224)\n",
      "\n",
      "0: 224x224 no_oil 0.66, oil 0.34, 5.1ms\n",
      "Speed: 1.5ms preprocess, 5.1ms inference, 0.0ms postprocess per image at shape (1, 3, 224, 224)\n",
      "\n",
      "0: 224x224 no_oil 0.64, oil 0.36, 5.3ms\n",
      "Speed: 2.4ms preprocess, 5.3ms inference, 0.0ms postprocess per image at shape (1, 3, 224, 224)\n",
      "\n",
      "0: 224x224 no_oil 0.64, oil 0.36, 4.9ms\n",
      "Speed: 1.6ms preprocess, 4.9ms inference, 0.0ms postprocess per image at shape (1, 3, 224, 224)\n",
      "\n",
      "0: 224x224 no_oil 0.69, oil 0.31, 5.1ms\n",
      "Speed: 1.5ms preprocess, 5.1ms inference, 0.0ms postprocess per image at shape (1, 3, 224, 224)\n",
      "\n",
      "0: 224x224 no_oil 0.76, oil 0.24, 5.1ms\n",
      "Speed: 1.7ms preprocess, 5.1ms inference, 0.0ms postprocess per image at shape (1, 3, 224, 224)\n",
      "\n",
      "0: 224x224 no_oil 0.80, oil 0.20, 5.3ms\n",
      "Speed: 1.5ms preprocess, 5.3ms inference, 0.0ms postprocess per image at shape (1, 3, 224, 224)\n",
      "\n",
      "0: 224x224 no_oil 0.68, oil 0.32, 5.0ms\n",
      "Speed: 1.5ms preprocess, 5.0ms inference, 0.0ms postprocess per image at shape (1, 3, 224, 224)\n",
      "\n",
      "0: 224x224 no_oil 0.59, oil 0.41, 5.8ms\n",
      "Speed: 3.2ms preprocess, 5.8ms inference, 0.0ms postprocess per image at shape (1, 3, 224, 224)\n",
      "\n",
      "0: 224x224 no_oil 0.77, oil 0.23, 4.9ms\n",
      "Speed: 1.7ms preprocess, 4.9ms inference, 0.0ms postprocess per image at shape (1, 3, 224, 224)\n",
      "\n",
      "0: 224x224 oil 0.67, no_oil 0.33, 5.7ms\n",
      "Speed: 1.7ms preprocess, 5.7ms inference, 0.0ms postprocess per image at shape (1, 3, 224, 224)\n",
      "\n",
      "0: 224x224 oil 0.81, no_oil 0.19, 5.8ms\n",
      "Speed: 1.8ms preprocess, 5.8ms inference, 0.0ms postprocess per image at shape (1, 3, 224, 224)\n",
      "\n",
      "0: 224x224 oil 0.75, no_oil 0.25, 5.0ms\n",
      "Speed: 1.7ms preprocess, 5.0ms inference, 0.0ms postprocess per image at shape (1, 3, 224, 224)\n",
      "\n",
      "0: 224x224 oil 0.74, no_oil 0.26, 5.0ms\n",
      "Speed: 1.7ms preprocess, 5.0ms inference, 0.0ms postprocess per image at shape (1, 3, 224, 224)\n",
      "\n",
      "0: 224x224 oil 0.65, no_oil 0.35, 4.6ms\n",
      "Speed: 1.7ms preprocess, 4.6ms inference, 0.0ms postprocess per image at shape (1, 3, 224, 224)\n",
      "\n",
      "0: 224x224 oil 0.73, no_oil 0.27, 5.0ms\n",
      "Speed: 1.8ms preprocess, 5.0ms inference, 0.0ms postprocess per image at shape (1, 3, 224, 224)\n",
      "\n",
      "0: 224x224 oil 0.58, no_oil 0.42, 5.1ms\n",
      "Speed: 2.3ms preprocess, 5.1ms inference, 0.0ms postprocess per image at shape (1, 3, 224, 224)\n",
      "\n",
      "0: 224x224 oil 0.63, no_oil 0.37, 4.9ms\n",
      "Speed: 1.6ms preprocess, 4.9ms inference, 0.0ms postprocess per image at shape (1, 3, 224, 224)\n",
      "\n",
      "0: 224x224 no_oil 0.53, oil 0.47, 4.7ms\n",
      "Speed: 1.7ms preprocess, 4.7ms inference, 0.0ms postprocess per image at shape (1, 3, 224, 224)\n",
      "\n",
      "0: 224x224 oil 0.72, no_oil 0.28, 4.9ms\n",
      "Speed: 1.6ms preprocess, 4.9ms inference, 0.0ms postprocess per image at shape (1, 3, 224, 224)\n",
      "\n",
      "0: 224x224 oil 0.58, no_oil 0.42, 5.0ms\n",
      "Speed: 1.7ms preprocess, 5.0ms inference, 0.0ms postprocess per image at shape (1, 3, 224, 224)\n",
      "\n",
      "0: 224x224 oil 0.68, no_oil 0.32, 4.9ms\n",
      "Speed: 1.5ms preprocess, 4.9ms inference, 0.0ms postprocess per image at shape (1, 3, 224, 224)\n",
      "\n",
      "0: 224x224 oil 0.55, no_oil 0.45, 4.8ms\n",
      "Speed: 1.7ms preprocess, 4.8ms inference, 0.0ms postprocess per image at shape (1, 3, 224, 224)\n",
      "Accuracy: 0.9629629629629629, avg loss: 0.3222766297834891\n"
     ]
    }
   ],
   "source": [
    "# performance metrics calculations\n",
    "# test_folder = './data/test'\n",
    "test_folder = \"./oil_detection_training/datasets/test\"\n",
    "\n",
    "pred_map = {\n",
    "    'no_oil': 0,\n",
    "    \"oil\": 1\n",
    "}\n",
    "\n",
    "total_loss = 0\n",
    "image_count = 0\n",
    "correct_count = 0\n",
    "\n",
    "for sub_dir in ['no_oil', 'oil']:\n",
    "    answer = pred_map[sub_dir]\n",
    "    input_folder = f'{test_folder}/{sub_dir}'\n",
    "\n",
    "    for filename in os.listdir(input_folder):\n",
    "        input_path = os.path.join(input_folder, filename)\n",
    "        test_img = Image.open(input_path)\n",
    "        res = model.predict(test_img)[0]\n",
    "\n",
    "        probabilities = res.probs\n",
    "        prediction = probabilities.top1\n",
    "        if prediction == answer:\n",
    "            correct_count += 1\n",
    "\n",
    "        confidence = probabilities.top1conf.item()\n",
    "        loss = 1 - confidence\n",
    "        total_loss += loss\n",
    "        image_count += 1\n",
    "\n",
    "\n",
    "accuracy = correct_count/image_count\n",
    "average_loss = total_loss/image_count\n",
    "\n",
    "print(f'Accuracy: {accuracy}, avg loss: {average_loss}')"
   ]
  },
  {
   "cell_type": "code",
   "execution_count": null,
   "metadata": {},
   "outputs": [],
   "source": []
  }
 ],
 "metadata": {
  "kernelspec": {
   "display_name": "3.10test",
   "language": "python",
   "name": "python3"
  },
  "language_info": {
   "codemirror_mode": {
    "name": "ipython",
    "version": 3
   },
   "file_extension": ".py",
   "mimetype": "text/x-python",
   "name": "python",
   "nbconvert_exporter": "python",
   "pygments_lexer": "ipython3",
   "version": "3.10.8"
  }
 },
 "nbformat": 4,
 "nbformat_minor": 2
}
